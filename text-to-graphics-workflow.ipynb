{
 "cells": [
  {
   "cell_type": "code",
   "execution_count": 8,
   "id": "e4a3cf18",
   "metadata": {},
   "outputs": [],
   "source": [
    "import openai\n",
    "import os"
   ]
  },
  {
   "cell_type": "code",
   "execution_count": null,
   "id": "89938bf2",
   "metadata": {},
   "outputs": [],
   "source": [
    "openai.api_key = \"\""
   ]
  },
  {
   "cell_type": "code",
   "execution_count": null,
   "id": "0404715b",
   "metadata": {},
   "outputs": [],
   "source": [
    "system_prompt = \"You are an experienced ML engineer.\\n\\n\"\n",
    "\n",
    "input_file = \"input/webgl-animated-avatar-original.html\"\n",
    "output_file = \"output/webgl-animated-avatar-gpt-output.txt\"\n",
    "\n",
    "with open(input_file, \"r\") as f:\n",
    "    input_text = f.read()\n"
   ]
  },
  {
   "cell_type": "code",
   "execution_count": null,
   "id": "de381529",
   "metadata": {},
   "outputs": [],
   "source": [
    "prompt = \"modify the code to amke the character stand up:\"+\"\\n\"+input_text+\"\\n Do not explain. Output only modified parts of code.\"\n",
    "system_prompt += prompt\n",
    "model = \"text-davinci-002\"\n",
    "temperature = 0.0\n",
    "max_tokens = 1000\n",
    "\n",
    "response = openai.Completion.create(\n",
    "    engine=model,\n",
    "    prompt=system_prompt,\n",
    "    temperature=temperature,\n",
    "    max_tokens=max_tokens\n",
    ")"
   ]
  },
  {
   "cell_type": "code",
   "execution_count": null,
   "id": "a9890c88",
   "metadata": {},
   "outputs": [],
   "source": [
    "output_text = response.choices[0].text\n",
    "\n",
    "with open(output_file, \"w\") as f:\n",
    "    f.write(output_text)"
   ]
  }
 ],
 "metadata": {
  "kernelspec": {
   "display_name": "Python 3 (ipykernel)",
   "language": "python",
   "name": "python3"
  },
  "language_info": {
   "codemirror_mode": {
    "name": "ipython",
    "version": 3
   },
   "file_extension": ".py",
   "mimetype": "text/x-python",
   "name": "python",
   "nbconvert_exporter": "python",
   "pygments_lexer": "ipython3",
   "version": "3.9.13"
  }
 },
 "nbformat": 4,
 "nbformat_minor": 5
}
