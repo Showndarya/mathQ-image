{
 "cells": [
  {
   "cell_type": "code",
   "execution_count": null,
   "id": "e4a3cf18",
   "metadata": {
    "id": "e4a3cf18"
   },
   "outputs": [],
   "source": [
    "import openai\n",
    "import os"
   ]
  },
  {
   "cell_type": "code",
   "execution_count": null,
   "id": "89938bf2",
   "metadata": {
    "id": "89938bf2"
   },
   "outputs": [],
   "source": [
    "openai.api_key = \"\""
   ]
  },
  {
   "cell_type": "code",
   "execution_count": null,
   "id": "0404715b",
   "metadata": {
    "id": "0404715b"
   },
   "outputs": [],
   "source": [
    "system_prompt = \"You are an experienced ML engineer.\\n\\n\"\n",
    "\n",
    "input_file = \"input/webgl-animated-avatar-original.html\"\n",
    "output_file = \"output/webgl-animated-avatar-gpt-output.txt\"\n",
    "\n",
    "with open(input_file, \"r\") as f:\n",
    "    input_text = f.read()\n"
   ]
  },
  {
   "cell_type": "code",
   "execution_count": null,
   "id": "de381529",
   "metadata": {
    "id": "de381529"
   },
   "outputs": [],
   "source": [
    "prompt = \"modify the code to make the character stand up:\"+\"\\n\"+input_text+\"\\n Do not explain. Output only modified parts of code.\"\n",
    "system_prompt += prompt\n",
    "model = \"text-davinci-002\"\n",
    "temperature = 0.0\n",
    "max_tokens = 1000\n",
    "\n",
    "response = openai.Completion.create(\n",
    "    engine=model,\n",
    "    prompt=system_prompt,\n",
    "    temperature=temperature,\n",
    "    max_tokens=max_tokens\n",
    ")"
   ]
  },
  {
   "cell_type": "code",
   "execution_count": null,
   "id": "a9890c88",
   "metadata": {
    "id": "a9890c88"
   },
   "outputs": [],
   "source": [
    "output_text = response.choices[0].text\n",
    "\n",
    "with open(output_file, \"w\") as f:\n",
    "    f.write(output_text)"
   ]
  },
  {
   "cell_type": "markdown",
   "id": "Nyzgn-hTFrD-",
   "metadata": {
    "id": "Nyzgn-hTFrD-"
   },
   "source": [
    "**Image to Text (Image Captioning)**"
   ]
  },
  {
   "cell_type": "markdown",
   "id": "RH9HuY9zGRiM",
   "metadata": {
    "id": "RH9HuY9zGRiM"
   },
   "source": [
    "Images are converted to text using the pre-trained \"vit-gpt2-image-captioning\" model available on Hugging Face."
   ]
  },
  {
   "cell_type": "code",
   "execution_count": null,
   "id": "uC-rN7loF1a0",
   "metadata": {
    "id": "uC-rN7loF1a0"
   },
   "outputs": [],
   "source": [
    "#Uncomment below comment if package not available on your system\n",
    "\n",
    "# !pip install transformers"
   ]
  },
  {
   "cell_type": "code",
   "execution_count": null,
   "id": "hKVKRODiF_vt",
   "metadata": {
    "id": "hKVKRODiF_vt"
   },
   "outputs": [],
   "source": [
    "from transformers import pipeline\n",
    "import warnings\n",
    "warnings.filterwarnings('ignore')"
   ]
  },
  {
   "cell_type": "code",
   "execution_count": null,
   "id": "OrfzdgAdGDJ3",
   "metadata": {
    "id": "OrfzdgAdGDJ3"
   },
   "outputs": [],
   "source": [
    "captioning_model = pipeline(\"image-to-text\", model=\"nlpconnect/vit-gpt2-image-captioning\")"
   ]
  },
  {
   "cell_type": "code",
   "execution_count": null,
   "id": "1-sWoizyGEqJ",
   "metadata": {
    "id": "1-sWoizyGEqJ"
   },
   "outputs": [],
   "source": [
    "print(\"Generated Caption:\", captioning_model(\"image-path\")[0]['generated_text'])"
   ]
  },
  {
   "cell_type": "markdown",
   "id": "6a8718a1",
   "metadata": {},
   "source": [
    "Using BLIP"
   ]
  },
  {
   "cell_type": "code",
   "execution_count": null,
   "id": "3ff9e184",
   "metadata": {},
   "outputs": [],
   "source": [
    "#Uncomment below comment if package not available on your system\n",
    "\n",
    "# !pip install salesforce-lavis"
   ]
  },
  {
   "cell_type": "code",
   "execution_count": null,
   "id": "06979c25",
   "metadata": {},
   "outputs": [],
   "source": [
    "import torch\n",
    "from PIL import Image\n",
    "from lavis.models import load_model_and_preprocess"
   ]
  },
  {
   "cell_type": "code",
   "execution_count": null,
   "id": "b3ba4b4a",
   "metadata": {},
   "outputs": [],
   "source": [
    "device = torch.device(\"cuda\" if torch.cuda.is_available() else \"cpu\")\n",
    "imageToBeCaptioned = Image.open(image-path).convert(\"RGB\")"
   ]
  },
  {
   "cell_type": "code",
   "execution_count": null,
   "id": "4e08138b",
   "metadata": {},
   "outputs": [],
   "source": [
    "model, vis_processors, _ = load_model_and_preprocess(name=\"blip_caption\", model_type=\"base_coco\", is_eval=True, device=device)\n",
    "image = vis_processors[\"eval\"](raw_image).unsqueeze(0).to(device)\n",
    "\n",
    "print(model.generate({\"image\": image})[0])"
   ]
  }
 ],
 "metadata": {
  "colab": {
   "provenance": []
  },
  "kernelspec": {
   "display_name": "Python 3",
   "language": "python",
   "name": "python3"
  },
  "language_info": {
   "codemirror_mode": {
    "name": "ipython",
    "version": 3
   },
   "file_extension": ".py",
   "mimetype": "text/x-python",
   "name": "python",
   "nbconvert_exporter": "python",
   "pygments_lexer": "ipython3",
   "version": "3.8.8"
  }
 },
 "nbformat": 4,
 "nbformat_minor": 5
}
